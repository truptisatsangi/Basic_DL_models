{
  "nbformat": 4,
  "nbformat_minor": 0,
  "metadata": {
    "colab": {
      "name": "Housing_price_estimation.ipynb",
      "provenance": [],
      "collapsed_sections": [],
      "authorship_tag": "ABX9TyNGiJ/PSC0k9JzGBAfaCOEY"
    },
    "kernelspec": {
      "name": "python3",
      "display_name": "Python 3"
    }
  },
  "cells": [
    {
      "cell_type": "code",
      "metadata": {
        "id": "OqFzehrmX6ag",
        "colab_type": "code",
        "colab": {}
      },
      "source": [
        "from keras.datasets import boston_housing\n",
        "(train_data, train_targets), (test_data, test_targets) = boston_housing.load_data()"
      ],
      "execution_count": 24,
      "outputs": []
    },
    {
      "cell_type": "code",
      "metadata": {
        "id": "rKtulE4Db1jo",
        "colab_type": "code",
        "colab": {
          "base_uri": "https://localhost:8080/",
          "height": 50
        },
        "outputId": "5564e074-506d-4ae7-b7e3-ca9f6e812807"
      },
      "source": [
        "print(train_data.shape)\n",
        "test_data.shape"
      ],
      "execution_count": 25,
      "outputs": [
        {
          "output_type": "stream",
          "text": [
            "(404, 13)\n"
          ],
          "name": "stdout"
        },
        {
          "output_type": "execute_result",
          "data": {
            "text/plain": [
              "(102, 13)"
            ]
          },
          "metadata": {
            "tags": []
          },
          "execution_count": 25
        }
      ]
    },
    {
      "cell_type": "code",
      "metadata": {
        "id": "RDPRbCqNb_Yx",
        "colab_type": "code",
        "colab": {
          "base_uri": "https://localhost:8080/",
          "height": 638
        },
        "outputId": "44247fd8-fac9-4493-bfd2-0f862b298a03"
      },
      "source": [
        "train_targets\n"
      ],
      "execution_count": 26,
      "outputs": [
        {
          "output_type": "execute_result",
          "data": {
            "text/plain": [
              "array([15.2, 42.3, 50. , 21.1, 17.7, 18.5, 11.3, 15.6, 15.6, 14.4, 12.1,\n",
              "       17.9, 23.1, 19.9, 15.7,  8.8, 50. , 22.5, 24.1, 27.5, 10.9, 30.8,\n",
              "       32.9, 24. , 18.5, 13.3, 22.9, 34.7, 16.6, 17.5, 22.3, 16.1, 14.9,\n",
              "       23.1, 34.9, 25. , 13.9, 13.1, 20.4, 20. , 15.2, 24.7, 22.2, 16.7,\n",
              "       12.7, 15.6, 18.4, 21. , 30.1, 15.1, 18.7,  9.6, 31.5, 24.8, 19.1,\n",
              "       22. , 14.5, 11. , 32. , 29.4, 20.3, 24.4, 14.6, 19.5, 14.1, 14.3,\n",
              "       15.6, 10.5,  6.3, 19.3, 19.3, 13.4, 36.4, 17.8, 13.5, 16.5,  8.3,\n",
              "       14.3, 16. , 13.4, 28.6, 43.5, 20.2, 22. , 23. , 20.7, 12.5, 48.5,\n",
              "       14.6, 13.4, 23.7, 50. , 21.7, 39.8, 38.7, 22.2, 34.9, 22.5, 31.1,\n",
              "       28.7, 46. , 41.7, 21. , 26.6, 15. , 24.4, 13.3, 21.2, 11.7, 21.7,\n",
              "       19.4, 50. , 22.8, 19.7, 24.7, 36.2, 14.2, 18.9, 18.3, 20.6, 24.6,\n",
              "       18.2,  8.7, 44. , 10.4, 13.2, 21.2, 37. , 30.7, 22.9, 20. , 19.3,\n",
              "       31.7, 32. , 23.1, 18.8, 10.9, 50. , 19.6,  5. , 14.4, 19.8, 13.8,\n",
              "       19.6, 23.9, 24.5, 25. , 19.9, 17.2, 24.6, 13.5, 26.6, 21.4, 11.9,\n",
              "       22.6, 19.6,  8.5, 23.7, 23.1, 22.4, 20.5, 23.6, 18.4, 35.2, 23.1,\n",
              "       27.9, 20.6, 23.7, 28. , 13.6, 27.1, 23.6, 20.6, 18.2, 21.7, 17.1,\n",
              "        8.4, 25.3, 13.8, 22.2, 18.4, 20.7, 31.6, 30.5, 20.3,  8.8, 19.2,\n",
              "       19.4, 23.1, 23. , 14.8, 48.8, 22.6, 33.4, 21.1, 13.6, 32.2, 13.1,\n",
              "       23.4, 18.9, 23.9, 11.8, 23.3, 22.8, 19.6, 16.7, 13.4, 22.2, 20.4,\n",
              "       21.8, 26.4, 14.9, 24.1, 23.8, 12.3, 29.1, 21. , 19.5, 23.3, 23.8,\n",
              "       17.8, 11.5, 21.7, 19.9, 25. , 33.4, 28.5, 21.4, 24.3, 27.5, 33.1,\n",
              "       16.2, 23.3, 48.3, 22.9, 22.8, 13.1, 12.7, 22.6, 15. , 15.3, 10.5,\n",
              "       24. , 18.5, 21.7, 19.5, 33.2, 23.2,  5. , 19.1, 12.7, 22.3, 10.2,\n",
              "       13.9, 16.3, 17. , 20.1, 29.9, 17.2, 37.3, 45.4, 17.8, 23.2, 29. ,\n",
              "       22. , 18. , 17.4, 34.6, 20.1, 25. , 15.6, 24.8, 28.2, 21.2, 21.4,\n",
              "       23.8, 31. , 26.2, 17.4, 37.9, 17.5, 20. ,  8.3, 23.9,  8.4, 13.8,\n",
              "        7.2, 11.7, 17.1, 21.6, 50. , 16.1, 20.4, 20.6, 21.4, 20.6, 36.5,\n",
              "        8.5, 24.8, 10.8, 21.9, 17.3, 18.9, 36.2, 14.9, 18.2, 33.3, 21.8,\n",
              "       19.7, 31.6, 24.8, 19.4, 22.8,  7.5, 44.8, 16.8, 18.7, 50. , 50. ,\n",
              "       19.5, 20.1, 50. , 17.2, 20.8, 19.3, 41.3, 20.4, 20.5, 13.8, 16.5,\n",
              "       23.9, 20.6, 31.5, 23.3, 16.8, 14. , 33.8, 36.1, 12.8, 18.3, 18.7,\n",
              "       19.1, 29. , 30.1, 50. , 50. , 22. , 11.9, 37.6, 50. , 22.7, 20.8,\n",
              "       23.5, 27.9, 50. , 19.3, 23.9, 22.6, 15.2, 21.7, 19.2, 43.8, 20.3,\n",
              "       33.2, 19.9, 22.5, 32.7, 22. , 17.1, 19. , 15. , 16.1, 25.1, 23.7,\n",
              "       28.7, 37.2, 22.6, 16.4, 25. , 29.8, 22.1, 17.4, 18.1, 30.3, 17.5,\n",
              "       24.7, 12.6, 26.5, 28.7, 13.3, 10.4, 24.4, 23. , 20. , 17.8,  7. ,\n",
              "       11.8, 24.4, 13.8, 19.4, 25.2, 19.4, 19.4, 29.1])"
            ]
          },
          "metadata": {
            "tags": []
          },
          "execution_count": 26
        }
      ]
    },
    {
      "cell_type": "code",
      "metadata": {
        "id": "7gVoVkCYCBAs",
        "colab_type": "code",
        "colab": {
          "base_uri": "https://localhost:8080/",
          "height": 235
        },
        "outputId": "a9939df4-1e6a-44d8-9f47-bf6d00dc4d6a"
      },
      "source": [
        "# NORMALIZING THE DATA\n",
        "\n",
        "mean = train_data.mean(axis = 0)\n",
        "train_data-= mean\n",
        "std = train_data.std(axis = 0)\n",
        "train_data/= std\n",
        "\n",
        "test_data-=mean\n",
        "test_data/=std\n",
        "train_data"
      ],
      "execution_count": 27,
      "outputs": [
        {
          "output_type": "execute_result",
          "data": {
            "text/plain": [
              "array([[-0.27224633, -0.48361547, -0.43576161, ...,  1.14850044,\n",
              "         0.44807713,  0.8252202 ],\n",
              "       [-0.40342651,  2.99178419, -1.33391162, ..., -1.71818909,\n",
              "         0.43190599, -1.32920239],\n",
              "       [ 0.1249402 , -0.48361547,  1.0283258 , ...,  0.78447637,\n",
              "         0.22061726, -1.30850006],\n",
              "       ...,\n",
              "       [-0.40202987,  0.99079651, -0.7415148 , ..., -0.71712291,\n",
              "         0.07943894, -0.67776904],\n",
              "       [-0.17292018, -0.48361547,  1.24588095, ..., -1.71818909,\n",
              "        -0.98764362,  0.42083466],\n",
              "       [-0.40422614,  2.04394792, -1.20161456, ..., -1.30866202,\n",
              "         0.23317118, -1.15392266]])"
            ]
          },
          "metadata": {
            "tags": []
          },
          "execution_count": 27
        }
      ]
    },
    {
      "cell_type": "code",
      "metadata": {
        "id": "3eS8uhlSDFmn",
        "colab_type": "code",
        "colab": {}
      },
      "source": [
        "# MODEL DEFNITION\n",
        "from keras import models\n",
        "from keras import layers\n",
        "\n",
        "def build_model():\n",
        "  model = models.Sequential()\n",
        "  model.add(layers.Dense(64, activation = 'relu', input_shape = (train_data.shape[1],)))\n",
        "  model.add(layers.Dense(64, activation = 'relu'))\n",
        "  model.add(layers.Dense(1))                                    # NO ACTIVATION FUNCTION SINCE WE DON'T WANT TO RESTRICT OUTPUT RANGE SINCE IT IS LINEAR FUNCTION\n",
        "  model.compile(optimizer = 'rmsprop', loss = 'mse', metrics = ['mae'])\n",
        "  return model"
      ],
      "execution_count": 28,
      "outputs": []
    },
    {
      "cell_type": "code",
      "metadata": {
        "id": "xCH1TJFyAa77",
        "colab_type": "code",
        "colab": {
          "base_uri": "https://localhost:8080/",
          "height": 151
        },
        "outputId": "4855dd96-5ae9-4189-ac5c-e24252274bc0"
      },
      "source": [
        "# VALIDING THE MODEL USING K FOLD \n",
        "# SINCE DATA IS SMALL\n",
        "import numpy as np\n",
        "k=4\n",
        "num_val_samples = len(train_data) // k\n",
        "num_epochs = 100\n",
        "all_scores = []\n",
        "\n",
        "for i in range(k):\n",
        "  print('processing fold #', i)\n",
        "  val_data = train_data[i * num_val_samples: (i + 1) * num_val_samples]\n",
        "  val_targets = train_targets[i * num_val_samples: (i + 1) * num_val_samples]\n",
        "  partial_train_data = np.concatenate(\n",
        "  [train_data[:i * num_val_samples],\n",
        "  train_data[(i + 1) * num_val_samples:]],\n",
        "  axis=0)\n",
        "  partial_train_targets = np.concatenate(\n",
        "  [train_targets[:i * num_val_samples],\n",
        "  train_targets[(i + 1) * num_val_samples:]],\n",
        "  axis=0)\n",
        "  model = build_model()\n",
        "  model.fit(partial_train_data, partial_train_targets,\n",
        "  epochs=num_epochs, batch_size=1, verbose=0)\n",
        "  val_mse, val_mae = model.evaluate(val_data, val_targets, verbose=0)\n",
        "  all_scores.append(val_mae)\n",
        "  print(all_scores)"
      ],
      "execution_count": 29,
      "outputs": [
        {
          "output_type": "stream",
          "text": [
            "processing fold # 0\n",
            "[2.0218541622161865]\n",
            "processing fold # 1\n",
            "[2.0218541622161865, 2.623135805130005]\n",
            "processing fold # 2\n",
            "[2.0218541622161865, 2.623135805130005, 2.406967878341675]\n",
            "processing fold # 3\n",
            "[2.0218541622161865, 2.623135805130005, 2.406967878341675, 2.267117500305176]\n"
          ],
          "name": "stdout"
        }
      ]
    },
    {
      "cell_type": "code",
      "metadata": {
        "id": "pB4x8bIjpZOA",
        "colab_type": "code",
        "colab": {
          "base_uri": "https://localhost:8080/",
          "height": 50
        },
        "outputId": "b130985f-ab04-4c9a-8d2f-a55d3b034597"
      },
      "source": [
        "print(all_scores)\n",
        "print(np.mean(all_scores))\n"
      ],
      "execution_count": 30,
      "outputs": [
        {
          "output_type": "stream",
          "text": [
            "[2.0218541622161865, 2.623135805130005, 2.406967878341675, 2.267117500305176]\n",
            "2.3297688364982605\n"
          ],
          "name": "stdout"
        }
      ]
    },
    {
      "cell_type": "code",
      "metadata": {
        "id": "9883L_3xKauB",
        "colab_type": "code",
        "colab": {
          "base_uri": "https://localhost:8080/",
          "height": 84
        },
        "outputId": "394d8746-730a-4ceb-f6e6-15548fcc3a12"
      },
      "source": [
        "#Saving the validation logs at each fold\n",
        "num_epochs = 500\n",
        "all_mae_histories = []\n",
        "for i in range(k):\n",
        "  print('processing fold #', i)\n",
        "  val_data = train_data[i * num_val_samples: (i + 1) * num_val_samples]\n",
        "  val_targets = train_targets[i * num_val_samples: (i + 1) * num_val_samples]\n",
        "  partial_train_data = np.concatenate(\n",
        "  [train_data[:i * num_val_samples],\n",
        "  train_data[(i + 1) * num_val_samples:]],\n",
        "  axis=0)\n",
        "\n",
        "  partial_train_targets = np.concatenate(\n",
        "  [train_targets[:i * num_val_samples],\n",
        "  train_targets[(i + 1) * num_val_samples:]],\n",
        "  axis=0)\n",
        "  model = build_model()\n",
        "  history = model.fit(partial_train_data, partial_train_targets,\n",
        "  validation_data=(val_data, val_targets),\n",
        "  epochs=num_epochs, batch_size=1, verbose=0)\n",
        "  mae_history = history.history['val_mae']\n",
        "  all_mae_histories.append(mae_history)"
      ],
      "execution_count": 31,
      "outputs": [
        {
          "output_type": "stream",
          "text": [
            "processing fold # 0\n",
            "processing fold # 1\n",
            "processing fold # 2\n",
            "processing fold # 3\n"
          ],
          "name": "stdout"
        }
      ]
    },
    {
      "cell_type": "code",
      "metadata": {
        "id": "4-dVFdbgRg4L",
        "colab_type": "code",
        "colab": {
          "base_uri": "https://localhost:8080/",
          "height": 1000
        },
        "outputId": "703ad3ea-41e6-4b3c-9832-3bfae23bbb39"
      },
      "source": [
        "average_mae_history = [np.mean([x[i] for x in all_mae_histories]) for i in range(num_epochs)]\n",
        "average_mae_history"
      ],
      "execution_count": 32,
      "outputs": [
        {
          "output_type": "execute_result",
          "data": {
            "text/plain": [
              "[4.83812940120697,\n",
              " 3.578950524330139,\n",
              " 3.3533008694648743,\n",
              " 2.9632450342178345,\n",
              " 2.9045804142951965,\n",
              " 2.885446846485138,\n",
              " 2.707424283027649,\n",
              " 2.814196228981018,\n",
              " 2.781058669090271,\n",
              " 2.603601336479187,\n",
              " 2.5198035836219788,\n",
              " 2.6392734050750732,\n",
              " 2.6277244091033936,\n",
              " 2.4285603165626526,\n",
              " 2.5120332837104797,\n",
              " 2.514030873775482,\n",
              " 2.4249058961868286,\n",
              " 2.4272500872612,\n",
              " 2.4819741249084473,\n",
              " 2.5490097999572754,\n",
              " 2.5895986557006836,\n",
              " 2.4138607680797577,\n",
              " 2.4412801265716553,\n",
              " 2.4754130244255066,\n",
              " 2.523639678955078,\n",
              " 2.47717148065567,\n",
              " 2.482901096343994,\n",
              " 2.391760289669037,\n",
              " 2.532792031764984,\n",
              " 2.50790673494339,\n",
              " 2.3860899209976196,\n",
              " 2.345188558101654,\n",
              " 2.465308964252472,\n",
              " 2.5103896856307983,\n",
              " 2.5189746022224426,\n",
              " 2.3361027538776398,\n",
              " 2.4411903023719788,\n",
              " 2.3103196918964386,\n",
              " 2.305058926343918,\n",
              " 2.4561280608177185,\n",
              " 2.524843156337738,\n",
              " 2.437547445297241,\n",
              " 2.3329851627349854,\n",
              " 2.4360868334770203,\n",
              " 2.3582643866539,\n",
              " 2.396052598953247,\n",
              " 2.465705543756485,\n",
              " 2.4869470596313477,\n",
              " 2.3683687448501587,\n",
              " 2.3334541022777557,\n",
              " 2.3555489778518677,\n",
              " 2.4060356616973877,\n",
              " 2.4175683856010437,\n",
              " 2.3911111056804657,\n",
              " 2.451856315135956,\n",
              " 2.3707544803619385,\n",
              " 2.4085370004177094,\n",
              " 2.447010040283203,\n",
              " 2.3377453088760376,\n",
              " 2.42715322971344,\n",
              " 2.551828145980835,\n",
              " 2.2896201610565186,\n",
              " 2.385390043258667,\n",
              " 2.358265459537506,\n",
              " 2.425904870033264,\n",
              " 2.3492216169834137,\n",
              " 2.3520360589027405,\n",
              " 2.3802070021629333,\n",
              " 2.3725313544273376,\n",
              " 2.4443716406822205,\n",
              " 2.408263862133026,\n",
              " 2.486033082008362,\n",
              " 2.404302179813385,\n",
              " 2.333663523197174,\n",
              " 2.3558303713798523,\n",
              " 2.3034118711948395,\n",
              " 2.3987236618995667,\n",
              " 2.3750266432762146,\n",
              " 2.4681625366210938,\n",
              " 2.3410496711730957,\n",
              " 2.271496534347534,\n",
              " 2.3159981966018677,\n",
              " 2.288024127483368,\n",
              " 2.4098610281944275,\n",
              " 2.272751957178116,\n",
              " 2.3213704228401184,\n",
              " 2.3163166642189026,\n",
              " 2.374852776527405,\n",
              " 2.354663372039795,\n",
              " 2.375406861305237,\n",
              " 2.394518733024597,\n",
              " 2.3945178389549255,\n",
              " 2.3794583082199097,\n",
              " 2.437041938304901,\n",
              " 2.40258127450943,\n",
              " 2.3724453449249268,\n",
              " 2.3091447353363037,\n",
              " 2.530098080635071,\n",
              " 2.2963772118091583,\n",
              " 2.488325774669647,\n",
              " 2.3903618454933167,\n",
              " 2.4501882195472717,\n",
              " 2.3593608736991882,\n",
              " 2.4741520285606384,\n",
              " 2.437429666519165,\n",
              " 2.342402994632721,\n",
              " 2.472070336341858,\n",
              " 2.3575857877731323,\n",
              " 2.541906237602234,\n",
              " 2.543996810913086,\n",
              " 2.4269972443580627,\n",
              " 2.390382170677185,\n",
              " 2.437692701816559,\n",
              " 2.5235552191734314,\n",
              " 2.4981502294540405,\n",
              " 2.438994586467743,\n",
              " 2.56677383184433,\n",
              " 2.502287447452545,\n",
              " 2.503515064716339,\n",
              " 2.3943324089050293,\n",
              " 2.3188729882240295,\n",
              " 2.4259071350097656,\n",
              " 2.4123817086219788,\n",
              " 2.565097689628601,\n",
              " 2.3995275497436523,\n",
              " 2.5340018272399902,\n",
              " 2.5852686166763306,\n",
              " 2.5046101808547974,\n",
              " 2.5287435054779053,\n",
              " 2.4471296072006226,\n",
              " 2.3940484523773193,\n",
              " 2.5444411635398865,\n",
              " 2.4509605169296265,\n",
              " 2.525653898715973,\n",
              " 2.4335217475891113,\n",
              " 2.4515055418014526,\n",
              " 2.4434483647346497,\n",
              " 2.477613151073456,\n",
              " 2.472766399383545,\n",
              " 2.649981200695038,\n",
              " 2.5678699016571045,\n",
              " 2.4711965322494507,\n",
              " 2.4928685426712036,\n",
              " 2.6902210116386414,\n",
              " 2.6339834928512573,\n",
              " 2.479741632938385,\n",
              " 2.418207585811615,\n",
              " 2.4019150137901306,\n",
              " 2.4357298016548157,\n",
              " 2.4676360487937927,\n",
              " 2.4380910992622375,\n",
              " 2.4116377234458923,\n",
              " 2.5002044439315796,\n",
              " 2.432811915874481,\n",
              " 2.4429487586021423,\n",
              " 2.5017581582069397,\n",
              " 2.541434407234192,\n",
              " 2.49618136882782,\n",
              " 2.465973198413849,\n",
              " 2.6265015602111816,\n",
              " 2.559658110141754,\n",
              " 2.619246184825897,\n",
              " 2.5646061301231384,\n",
              " 2.5472435355186462,\n",
              " 2.44041246175766,\n",
              " 2.5007774233818054,\n",
              " 2.5681093335151672,\n",
              " 2.5455533266067505,\n",
              " 2.509552478790283,\n",
              " 2.6144540309906006,\n",
              " 2.6194509863853455,\n",
              " 2.385779023170471,\n",
              " 2.500123977661133,\n",
              " 2.586441218852997,\n",
              " 2.4440360069274902,\n",
              " 2.5120019912719727,\n",
              " 2.62195086479187,\n",
              " 2.5803096890449524,\n",
              " 2.5145971179008484,\n",
              " 2.469350039958954,\n",
              " 2.6012046933174133,\n",
              " 2.4496074318885803,\n",
              " 2.557860016822815,\n",
              " 2.4975547790527344,\n",
              " 2.5153234004974365,\n",
              " 2.568379044532776,\n",
              " 2.61579567193985,\n",
              " 2.569351077079773,\n",
              " 2.6325045824050903,\n",
              " 2.6009411811828613,\n",
              " 2.5640761256217957,\n",
              " 2.542924165725708,\n",
              " 2.5445732474327087,\n",
              " 2.525756597518921,\n",
              " 2.4330078959465027,\n",
              " 2.6796663999557495,\n",
              " 2.5656540989875793,\n",
              " 2.5687716603279114,\n",
              " 2.5887961387634277,\n",
              " 2.569487988948822,\n",
              " 2.648765981197357,\n",
              " 2.5370689630508423,\n",
              " 2.4712027311325073,\n",
              " 2.6372708082199097,\n",
              " 2.582300841808319,\n",
              " 2.53355473279953,\n",
              " 2.6320688724517822,\n",
              " 2.5249375104904175,\n",
              " 2.664669930934906,\n",
              " 2.5775859355926514,\n",
              " 2.625711500644684,\n",
              " 2.623926520347595,\n",
              " 2.62676203250885,\n",
              " 2.5464240312576294,\n",
              " 2.652788281440735,\n",
              " 2.4789263010025024,\n",
              " 2.6530420780181885,\n",
              " 2.62826406955719,\n",
              " 2.4827480912208557,\n",
              " 2.518394708633423,\n",
              " 2.579245626926422,\n",
              " 2.698442816734314,\n",
              " 2.5410531163215637,\n",
              " 2.567821741104126,\n",
              " 2.670760154724121,\n",
              " 2.5882447957992554,\n",
              " 2.5175511240959167,\n",
              " 2.556876242160797,\n",
              " 2.581864356994629,\n",
              " 2.6576554775238037,\n",
              " 2.5441017150878906,\n",
              " 2.5735499262809753,\n",
              " 2.7191596031188965,\n",
              " 2.699135482311249,\n",
              " 2.5324917435646057,\n",
              " 2.5785000920295715,\n",
              " 2.431407392024994,\n",
              " 2.540572166442871,\n",
              " 2.697628438472748,\n",
              " 2.5564420223236084,\n",
              " 2.6035141944885254,\n",
              " 2.619092643260956,\n",
              " 2.6071320176124573,\n",
              " 2.509038507938385,\n",
              " 2.634353816509247,\n",
              " 2.6917306184768677,\n",
              " 2.5041093230247498,\n",
              " 2.6526225209236145,\n",
              " 2.636651039123535,\n",
              " 2.522286117076874,\n",
              " 2.632693886756897,\n",
              " 2.6107343435287476,\n",
              " 2.65884530544281,\n",
              " 2.487554371356964,\n",
              " 2.619597375392914,\n",
              " 2.6068090200424194,\n",
              " 2.6347870230674744,\n",
              " 2.516045570373535,\n",
              " 2.75922429561615,\n",
              " 2.7121201753616333,\n",
              " 2.560580790042877,\n",
              " 2.545470178127289,\n",
              " 2.5747827291488647,\n",
              " 2.6213801503181458,\n",
              " 2.573306679725647,\n",
              " 2.5989193320274353,\n",
              " 2.5295926332473755,\n",
              " 2.5694260001182556,\n",
              " 2.675117075443268,\n",
              " 2.5718886852264404,\n",
              " 2.5905784964561462,\n",
              " 2.6493386030197144,\n",
              " 2.6933062076568604,\n",
              " 2.6800873279571533,\n",
              " 2.6109120845794678,\n",
              " 2.575403869152069,\n",
              " 2.5424707531929016,\n",
              " 2.638314425945282,\n",
              " 2.603258967399597,\n",
              " 2.634331524372101,\n",
              " 2.6162039637565613,\n",
              " 2.56536865234375,\n",
              " 2.687393009662628,\n",
              " 2.5863115191459656,\n",
              " 2.530003607273102,\n",
              " 2.7069342732429504,\n",
              " 2.559548020362854,\n",
              " 2.5147500038146973,\n",
              " 2.6487902402877808,\n",
              " 2.4502554535865784,\n",
              " 2.581647574901581,\n",
              " 2.5418149828910828,\n",
              " 2.6576539278030396,\n",
              " 2.6565998196601868,\n",
              " 2.688295364379883,\n",
              " 2.538238525390625,\n",
              " 2.634402275085449,\n",
              " 2.613677680492401,\n",
              " 2.5605955719947815,\n",
              " 2.687329411506653,\n",
              " 2.4940248131752014,\n",
              " 2.666197657585144,\n",
              " 2.63076514005661,\n",
              " 2.597584307193756,\n",
              " 2.5828904509544373,\n",
              " 2.649794340133667,\n",
              " 2.6626773476600647,\n",
              " 2.718971014022827,\n",
              " 2.617870271205902,\n",
              " 2.575814127922058,\n",
              " 2.6150805950164795,\n",
              " 2.637657344341278,\n",
              " 2.5079237818717957,\n",
              " 2.5321102142333984,\n",
              " 2.6474356055259705,\n",
              " 2.6570820808410645,\n",
              " 2.544898569583893,\n",
              " 2.6474849581718445,\n",
              " 2.5597477555274963,\n",
              " 2.66039502620697,\n",
              " 2.632347881793976,\n",
              " 2.637424111366272,\n",
              " 2.6193219423294067,\n",
              " 2.628085494041443,\n",
              " 2.553061306476593,\n",
              " 2.5704376697540283,\n",
              " 2.5980535745620728,\n",
              " 2.6134257316589355,\n",
              " 2.6508942246437073,\n",
              " 2.6037999987602234,\n",
              " 2.6865063905715942,\n",
              " 2.7242210507392883,\n",
              " 2.6781811118125916,\n",
              " 2.664168655872345,\n",
              " 2.546787202358246,\n",
              " 2.682958662509918,\n",
              " 2.6231152415275574,\n",
              " 2.6595272421836853,\n",
              " 2.5513216853141785,\n",
              " 2.702357769012451,\n",
              " 2.546933650970459,\n",
              " 2.5422714352607727,\n",
              " 2.581276059150696,\n",
              " 2.507127285003662,\n",
              " 2.6075485944747925,\n",
              " 2.5769806504249573,\n",
              " 2.607839047908783,\n",
              " 2.584470570087433,\n",
              " 2.665095806121826,\n",
              " 2.6243420839309692,\n",
              " 2.576339304447174,\n",
              " 2.5631224513053894,\n",
              " 2.5930711030960083,\n",
              " 2.5223886370658875,\n",
              " 2.598229169845581,\n",
              " 2.576986074447632,\n",
              " 2.6943843960762024,\n",
              " 2.743689000606537,\n",
              " 2.5907179713249207,\n",
              " 2.6388389468193054,\n",
              " 2.590489149093628,\n",
              " 2.7441701889038086,\n",
              " 2.6301586627960205,\n",
              " 2.5759822726249695,\n",
              " 2.728938102722168,\n",
              " 2.651553690433502,\n",
              " 2.632795512676239,\n",
              " 2.6545615792274475,\n",
              " 2.6419464349746704,\n",
              " 2.538768231868744,\n",
              " 2.647129476070404,\n",
              " 2.605612277984619,\n",
              " 2.680744469165802,\n",
              " 2.5518856048583984,\n",
              " 2.671016573905945,\n",
              " 2.4898188710212708,\n",
              " 2.50928395986557,\n",
              " 2.7884682416915894,\n",
              " 2.605279564857483,\n",
              " 2.647329032421112,\n",
              " 2.583775222301483,\n",
              " 2.5866814255714417,\n",
              " 2.7061330676078796,\n",
              " 2.5925384163856506,\n",
              " 2.637628495693207,\n",
              " 2.6505202054977417,\n",
              " 2.5997490882873535,\n",
              " 2.539255201816559,\n",
              " 2.6352255940437317,\n",
              " 2.6084128618240356,\n",
              " 2.526692271232605,\n",
              " 2.705644905567169,\n",
              " 2.5927977561950684,\n",
              " 2.55534428358078,\n",
              " 2.7208996415138245,\n",
              " 2.5533453822135925,\n",
              " 2.593797206878662,\n",
              " 2.500907301902771,\n",
              " 2.578273296356201,\n",
              " 2.6364224553108215,\n",
              " 2.6438297033309937,\n",
              " 2.6435969471931458,\n",
              " 2.563552439212799,\n",
              " 2.7356327176094055,\n",
              " 2.5555461645126343,\n",
              " 2.5709190368652344,\n",
              " 2.5062055587768555,\n",
              " 2.6523846983909607,\n",
              " 2.641323447227478,\n",
              " 2.524714410305023,\n",
              " 2.623515784740448,\n",
              " 2.6131637692451477,\n",
              " 2.5660014748573303,\n",
              " 2.5603769421577454,\n",
              " 2.6139476895332336,\n",
              " 2.6631900668144226,\n",
              " 2.657766044139862,\n",
              " 2.7738810181617737,\n",
              " 2.6709229946136475,\n",
              " 2.6064611673355103,\n",
              " 2.527923583984375,\n",
              " 2.614407181739807,\n",
              " 2.56115460395813,\n",
              " 2.5786624550819397,\n",
              " 2.571160852909088,\n",
              " 2.5795936584472656,\n",
              " 2.5651087760925293,\n",
              " 2.6162720918655396,\n",
              " 2.6316077709198,\n",
              " 2.691471517086029,\n",
              " 2.6371455788612366,\n",
              " 2.6373100876808167,\n",
              " 2.5105867981910706,\n",
              " 2.690702259540558,\n",
              " 2.5083903074264526,\n",
              " 2.6160813570022583,\n",
              " 2.588664412498474,\n",
              " 2.635764718055725,\n",
              " 2.644804060459137,\n",
              " 2.5527589321136475,\n",
              " 2.6301982402801514,\n",
              " 2.6298129558563232,\n",
              " 2.606318771839142,\n",
              " 2.566772222518921,\n",
              " 2.548193573951721,\n",
              " 2.6129528880119324,\n",
              " 2.578280806541443,\n",
              " 2.5841058492660522,\n",
              " 2.5215489268302917,\n",
              " 2.5792160630226135,\n",
              " 2.647648870944977,\n",
              " 2.4830960631370544,\n",
              " 2.668174624443054,\n",
              " 2.507730722427368,\n",
              " 2.5341644883155823,\n",
              " 2.613139033317566,\n",
              " 2.5688003301620483,\n",
              " 2.5383148789405823,\n",
              " 2.5939581394195557,\n",
              " 2.491666257381439,\n",
              " 2.6220788955688477,\n",
              " 2.584663450717926,\n",
              " 2.578274369239807,\n",
              " 2.5692933797836304,\n",
              " 2.6096407175064087,\n",
              " 2.568299651145935,\n",
              " 2.5620311498641968,\n",
              " 2.5777016282081604,\n",
              " 2.5578964352607727,\n",
              " 2.576954185962677,\n",
              " 2.5909693837165833,\n",
              " 2.6442870497703552,\n",
              " 2.6676986813545227,\n",
              " 2.5232091546058655,\n",
              " 2.5804242491722107,\n",
              " 2.6010871529579163,\n",
              " 2.585744023323059,\n",
              " 2.574948489665985,\n",
              " 2.577597498893738,\n",
              " 2.630019724369049,\n",
              " 2.7093212604522705,\n",
              " 2.5048898458480835,\n",
              " 2.5856717228889465,\n",
              " 2.580444574356079,\n",
              " 2.6180741786956787,\n",
              " 2.624971389770508,\n",
              " 2.589638352394104,\n",
              " 2.6029462218284607,\n",
              " 2.5841771960258484,\n",
              " 2.639468014240265,\n",
              " 2.6150891184806824,\n",
              " 2.686669111251831,\n",
              " 2.635285258293152,\n",
              " 2.5433066487312317,\n",
              " 2.573611557483673,\n",
              " 2.558542788028717,\n",
              " 2.7172034978866577,\n",
              " 2.633389413356781,\n",
              " 2.657562792301178,\n",
              " 2.6923537850379944]"
            ]
          },
          "metadata": {
            "tags": []
          },
          "execution_count": 32
        }
      ]
    },
    {
      "cell_type": "code",
      "metadata": {
        "id": "c5gcdrvkexi3",
        "colab_type": "code",
        "colab": {
          "base_uri": "https://localhost:8080/",
          "height": 279
        },
        "outputId": "11b46283-db9a-4131-8dda-7d46e755d226"
      },
      "source": [
        " import matplotlib.pyplot as plt\n",
        " plt.plot(range(1, len(average_mae_history)+1), average_mae_history)\n",
        " plt.xlabel('Epoch')\n",
        " plt.ylabel('validation_mae')\n",
        " plt.show()"
      ],
      "execution_count": 33,
      "outputs": [
        {
          "output_type": "display_data",
          "data": {
            "image/png": "[encoded data removed]",
            "text/plain": [
              "<Figure size 432x288 with 1 Axes>"
            ]
          },
          "metadata": {
            "tags": [],
            "needs_background": "light"
          }
        }
      ]
    },
    {
      "cell_type": "code",
      "metadata": {
        "id": "ncx7EAgsilCA",
        "colab_type": "code",
        "colab": {
          "base_uri": "https://localhost:8080/",
          "height": 279
        },
        "outputId": "dcaf1f4f-bbac-43aa-e043-231dbf659a31"
      },
      "source": [
        "def smooth_curve(points, factor=0.9):\n",
        "  smoothed_points = []\n",
        "  for point in points:\n",
        "    if smoothed_points:\n",
        "      previous = smoothed_points[-1]\n",
        "      smoothed_points.append(previous * factor + point * (1 - factor))\n",
        "    else:\n",
        "      smoothed_points.append(point)\n",
        "    return smoothed_points\n",
        "smooth_mae_history = smooth_curve(average_mae_history[10:])\n",
        "plt.plot(range(1, len(smooth_mae_history) + 1), smooth_mae_history)\n",
        "plt.xlabel('Epochs')\n",
        "plt.ylabel('Validation MAE')\n",
        "plt.show()"
      ],
      "execution_count": 34,
      "outputs": [
        {
          "output_type": "display_data",
          "data": {
            "image/png": "[encoded data removed]",
            "text/plain": [
              "<Figure size 432x288 with 1 Axes>"
            ]
          },
          "metadata": {
            "tags": [],
            "needs_background": "light"
          }
        }
      ]
    },
    {
      "cell_type": "code",
      "metadata": {
        "id": "CcHEoaZFjRSc",
        "colab_type": "code",
        "colab": {
          "base_uri": "https://localhost:8080/",
          "height": 50
        },
        "outputId": "c765e69e-b579-4542-d552-456edb50a8ac"
      },
      "source": [
        "# BUILDING THE MODEL FROM SCRATCH WITH EPOCH =80\n",
        "model = build_model()\n",
        "model.fit(test_data, test_targets, epochs = 80, batch_size = 16, verbose = 0)\n",
        "test_mse_score, test_mae_score = model.evaluate(test_data, test_targets)\n",
        "test_mae_score\n"
      ],
      "execution_count": 35,
      "outputs": [
        {
          "output_type": "stream",
          "text": [
            "4/4 [==============================] - 0s 2ms/step - loss: 7.2547 - mae: 2.0976\n"
          ],
          "name": "stdout"
        },
        {
          "output_type": "execute_result",
          "data": {
            "text/plain": [
              "2.0975515842437744"
            ]
          },
          "metadata": {
            "tags": []
          },
          "execution_count": 35
        }
      ]
    }
  ]
}